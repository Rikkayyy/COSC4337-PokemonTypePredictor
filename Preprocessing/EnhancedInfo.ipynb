{
 "cells": [
  {
   "cell_type": "markdown",
   "id": "7de3fa8b",
   "metadata": {},
   "source": [
    "**This notebook tests pokeapi and combines the pokdex entries from all pokemon games into one enhanced pokedex entry**"
   ]
  },
  {
   "cell_type": "code",
   "execution_count": 1,
   "id": "380d9d5e",
   "metadata": {},
   "outputs": [
    {
     "name": "stdout",
     "output_type": "stream",
     "text": [
      "Red: Spits fire that is hot enough to melt boulders. Known to cause forest fires unintentionally.\n",
      "Blue: Spits fire that is hot enough to melt boulders. Known to cause forest fires unintentionally.\n",
      "Yellow: When expelling a blast of super hot fire, the red flame at the tip of its tail burns more intensely.\n",
      "Gold: If CHARIZARD be­ comes furious, the flame at the tip of its tail flares up in a whitish- blue color.\n",
      "Silver: Breathing intense, hot flames, it can melt almost any­ thing. Its breath inflicts terrible pain on enemies.\n",
      "Crystal: It uses its wings to fly high. The temperature of its fire increases as it gains exper­ ience in battle.\n",
      "Ruby: CHARIZARD flies around the sky in search of powerful opponents. It breathes fire of such great heat that it melts anything. However, it never turns its fiery breath on any opponent weaker than itself.\n",
      "Sapphire: CHARIZARD flies around the sky in search of powerful opponents. It breathes fire of such great heat that it melts anything. However, it never turns its fiery breath on any opponent weaker than itself.\n",
      "Emerald: A CHARIZARD flies about in search of strong opponents. It breathes intense flames that can melt any material. However, it will never torch a weaker foe.\n",
      "Firered: Its wings can carry this POKéMON close to an altitude of 4,600 feet. It blows out fire at very high temperatures.\n",
      "Leafgreen: It spits fire that is hot enough to melt boulders. It may cause forest fires by blowing flames.\n",
      "Diamond: It is said that CHARIZARD’s fire burns hotter if it has experienced harsh battles.\n",
      "Pearl: It is said that CHARIZARD’s fire burns hotter if it has experienced harsh battles.\n",
      "Platinum: It is said that CHARIZARD’s fire burns hotter if it has experienced harsh battles.\n",
      "Heartgold: If CHARIZARD becomes furious, the flame at the tip of its tail flares up in a light blue shade.\n",
      "Soulsilver: Breathing intense, hot flames, it can melt almost anything. Its breath inflicts terrible pain on enemies.\n",
      "Black: It is said that Charizard’s fire burns hotter if it has experienced harsh battles.\n",
      "White: It is said that Charizard’s fire burns hotter if it has experienced harsh battles.\n",
      "Black-2: It is said that Charizard’s fire burns hotter if it has experienced harsh battles.\n",
      "White-2: It is said that Charizard’s fire burns hotter if it has experienced harsh battles.\n",
      "X: When expelling a blast of superhot fire, the red flame at the tip of its tail burns more intensely.\n",
      "Y: Its wings can carry this Pokémon close to an altitude of 4,600 feet. It blows out fire at very high temperatures.\n",
      "Omega-ruby: Charizard flies around the sky in search of powerful opponents. It breathes fire of such great heat that it melts anything. However, it never turns its fiery breath on any opponent weaker than itself.\n",
      "Alpha-sapphire: Charizard flies around the sky in search of powerful opponents. It breathes fire of such great heat that it melts anything. However, it never turns its fiery breath on any opponent weaker than itself.\n",
      "Lets-go-pikachu: When this Pokémon expels a blast of superhot fire, the red flame at the tip of its tail burns more intensely.\n",
      "Lets-go-eevee: When this Pokémon expels a blast of superhot fire, the red flame at the tip of its tail burns more intensely.\n",
      "Sword: It spits fire that is hot enough to melt boulders. It may cause forest fires by blowing flames.\n",
      "Shield: Its wings can carry this Pokémon close to an altitude of 4,600 feet. It blows out fire at very high temperatures.\n"
     ]
    }
   ],
   "source": [
    "import requests\n",
    "\n",
    "def print_pokedex_entries(pokemon_name):\n",
    "    url = f\"https://pokeapi.co/api/v2/pokemon-species/{pokemon_name.lower()}\"\n",
    "    response = requests.get(url)\n",
    "\n",
    "    if response.status_code != 200:\n",
    "        print(\"Failed to retrieve data.\")\n",
    "        return\n",
    "\n",
    "    data = response.json()\n",
    "    entries = data.get(\"flavor_text_entries\", [])\n",
    "\n",
    "    printed_versions = set()\n",
    "\n",
    "    for entry in entries:\n",
    "        language = entry[\"language\"][\"name\"]\n",
    "        version = entry[\"version\"][\"name\"]\n",
    "        text = entry[\"flavor_text\"].replace('\\n', ' ').replace('\\f', ' ')\n",
    "\n",
    "        if language == \"en\" and version not in printed_versions:\n",
    "            print(f\"{version.capitalize()}: {text}\")\n",
    "            printed_versions.add(version)\n",
    "\n",
    "# Example usage\n",
    "print_pokedex_entries(\"charizard\")\n"
   ]
  },
  {
   "cell_type": "markdown",
   "id": "d8fe273b",
   "metadata": {},
   "source": [
    "**Old Enhanced Info**\n",
    "\n",
    "\"Spits fire that is hot enough to melt boulders. Known to cause forest fires unintentionally. When this Pokémon expels a blast of superhot fire, the red flame at the tip of its tail burns more intensely. When expelling a blast of super hot fire, the red flame at the tip of its tail burns more intensely. If [POKEMON] becomes furious, the flame at the tip of its tail flares up in a light blue shade. [POKEMON] flies around the sky in search of powerful opponents. It breathes fire of such great heat that it melts anything. However, it never turns its fiery breath on any opponent weaker than itself. It uses its wings to fly high. The temperature of its fire increases as it gains exper­ ience in battle. When expelling a blast of superhot fire, the red flame at the tip of its tail burns more intensely. It spits fire that is hot enough to melt boulders. It may cause forest fires by blowing flames. If [POKEMON] be­ comes furious, the flame at the tip of its tail flares up in a whitish- blue color. A [POKEMON] flies about in search of strong opponents. It breathes intense flames that can melt any material. However, it will never torch a weaker foe. Breathing intense, hot flames, it can melt almost anything. Its breath inflicts terrible pain on enemies. Its wings can carry this Pokémon close to an altitude of 4,600 feet. It blows out fire at very high temperatures. Breathing intense, hot flames, it can melt almost any­ thing. Its breath inflicts terrible pain on enemies. It is said that [POKEMON]’s fire burns hotter if it has experienced harsh battles. Its wings can carry this POKéMON close to an altitude of 4,600 feet. It blows out fire at very high temperatures.\""
   ]
  },
  {
   "cell_type": "markdown",
   "id": "08157444",
   "metadata": {},
   "source": [
    "**New Enhanced info**\n",
    "\n",
    "\"Spits fire that is hot enough to melt boulders. Known to cause forest fires unintentionally. When expelling a blast of super hot fire, the red flame at the tip of its tail burns more intensely. If [POKEMON] be­ comes furious, the flame at the tip of its tail flares up in a whitish- blue color. Breathing intense, hot flames, it can melt almost any­ thing. Its breath inflicts terrible pain on enemies. It uses its wings to fly high. The temperature of its fire increases as it gains exper­ ience in battle. [POKEMON] flies around the sky in search of powerful opponents. It breathes fire of such great heat that it melts anything. However, it never turns its fiery breath on any opponent weaker than itself. A [POKEMON] flies about in search of strong opponents. It breathes intense flames that can melt any material. However, it will never torch a weaker foe. Its wings can carry this POKéMON close to an altitude of 4,600 feet. It blows out fire at very high temperatures. It spits fire that is hot enough to melt boulders. It may cause forest fires by blowing flames. It is said that [POKEMON]’s fire burns hotter if it has experienced harsh battles.\""
   ]
  },
  {
   "cell_type": "code",
   "execution_count": null,
   "id": "57fc7999",
   "metadata": {},
   "outputs": [
    {
     "name": "stderr",
     "output_type": "stream",
     "text": [
      "/opt/miniconda3/envs/datascience/lib/python3.9/site-packages/tqdm/auto.py:21: TqdmWarning: IProgress not found. Please update jupyter and ipywidgets. See https://ipywidgets.readthedocs.io/en/stable/user_install.html\n",
      "  from .autonotebook import tqdm as notebook_tqdm\n",
      "Fetching + Filtering enhanced info: 100%|██████████| 1025/1025 [07:38<00:00,  2.23it/s]\n"
     ]
    },
    {
     "name": "stdout",
     "output_type": "stream",
     "text": [
      "✅ Saved enhanced info CSV with filtered entries: pokedex_final.csv\n"
     ]
    }
   ],
   "source": [
    "import requests\n",
    "import pandas as pd\n",
    "import re\n",
    "from tqdm import tqdm\n",
    "from sentence_transformers import SentenceTransformer, util\n",
    "\n",
    "# Load sentence transformer\n",
    "model = SentenceTransformer('all-MiniLM-L6-v2')\n",
    "\n",
    "# Function to fetch and clean Pokédex entries\n",
    "def get_enhanced_info(pokemon_name):\n",
    "    url = f'https://pokeapi.co/api/v2/pokemon-species/{pokemon_name.lower()}'\n",
    "    try:\n",
    "        response = requests.get(url)\n",
    "        if response.status_code != 200:\n",
    "            return None\n",
    "\n",
    "        data = response.json()\n",
    "        sentences = []\n",
    "\n",
    "        for entry in data['flavor_text_entries']:\n",
    "            if entry['language']['name'] == 'en':\n",
    "                text = entry['flavor_text'].replace('\\n', ' ').replace('\\f', ' ')\n",
    "                \n",
    "                # Replace Pokémon name with placeholder\n",
    "                text = re.sub(rf'\\b{pokemon_name}\\b', '[POKEMON]', text, flags=re.IGNORECASE)\n",
    "                text = re.sub(' +', ' ', text).strip()\n",
    "\n",
    "                if text:\n",
    "                    sentences.append(text)\n",
    "\n",
    "        # Deduplicate semantically similar sentences\n",
    "        unique_sentences = []\n",
    "        if sentences:\n",
    "            embeddings = model.encode(sentences, convert_to_tensor=True)\n",
    "            for i, s in enumerate(sentences):\n",
    "                if all(util.pytorch_cos_sim(embeddings[i], embeddings[j]) < 0.9 for j in range(i)):\n",
    "                    unique_sentences.append(s)\n",
    "\n",
    "        return \" \".join(unique_sentences)\n",
    "\n",
    "    except Exception as e:\n",
    "        print(f\"Failed for {pokemon_name}: {e}\")\n",
    "        return None\n",
    "\n",
    "# Load your cleaned Pokédex\n",
    "df = pd.read_csv('../Datasets/pokedex_final.csv')\n",
    "\n",
    "# Apply function with progress\n",
    "tqdm.pandas(desc=\"Fetching + Filtering enhanced info\")\n",
    "df['enhanced_info'] = df['name'].progress_apply(get_enhanced_info)\n",
    "\n",
    "# Save result\n",
    "output_path = '../Datasets/pokedex_final.csv'\n",
    "df.to_csv(output_path, index=False)\n",
    "print(f\"✅ Saved enhanced info CSV with filtered entries: {output_path}\")\n"
   ]
  }
 ],
 "metadata": {
  "kernelspec": {
   "display_name": "datascience",
   "language": "python",
   "name": "python3"
  },
  "language_info": {
   "codemirror_mode": {
    "name": "ipython",
    "version": 3
   },
   "file_extension": ".py",
   "mimetype": "text/x-python",
   "name": "python",
   "nbconvert_exporter": "python",
   "pygments_lexer": "ipython3",
   "version": "3.9.19"
  }
 },
 "nbformat": 4,
 "nbformat_minor": 5
}
