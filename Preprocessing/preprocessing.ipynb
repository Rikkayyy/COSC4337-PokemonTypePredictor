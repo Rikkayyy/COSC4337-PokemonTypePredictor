{
 "cells": [
  {
   "cell_type": "code",
   "execution_count": 2,
   "id": "e8a66e84",
   "metadata": {},
   "outputs": [
    {
     "name": "stdout",
     "output_type": "stream",
     "text": [
      "Index(['id', 'name', 'height', 'weight', 'hp', 'attack', 'defense', 's_attack',\n",
      "       's_defense', 'speed', 'type', 'evo_set', 'type1', 'type2',\n",
      "       'is_dual_type', 'enhanced_info'],\n",
      "      dtype='object')\n",
      "                                       enhanced_info            type\n",
      "0  A strange seed was planted on its back at birt...  {grass,poison}\n",
      "1  When the bulb on its back grows large, it appe...  {grass,poison}\n",
      "2  The plant blooms when it is absorbing solar en...  {grass,poison}\n",
      "3  Obviously prefers hot places. When it rains, s...          {fire}\n",
      "4  When it swings its burning tail, it elevates t...          {fire}\n"
     ]
    }
   ],
   "source": [
    "import pandas as pd\n",
    "\n",
    "df = pd.read_csv('../Datasets/pokedex_final.csv')\n",
    "print(df.columns)\n",
    "print(df[['enhanced_info', 'type']].head())\n"
   ]
  },
  {
   "cell_type": "code",
   "execution_count": null,
   "id": "751d8d89",
   "metadata": {},
   "outputs": [],
   "source": [
    "from sklearn.preprocessing import MultiLabelBinarizer\n",
    "\n",
    "# Combining the 'type1' and 'type2' columns into a list and removing NaN values\n",
    "df['type_list'] = df[['type1', 'type2']].values.tolist()\n",
    "df['type_list'] = df['type_list'].apply(lambda x: [t for t in x if pd.notna(t) and t != ''])\n",
    "\n",
    "# Using MultiLabelBinarizer to convert the list of types into a binary matrix\n",
    "mlb = MultiLabelBinarizer()\n",
    "y = mlb.fit_transform(df['type_list'])\n",
    "\n"
   ]
  }
 ],
 "metadata": {
  "kernelspec": {
   "display_name": "datascience",
   "language": "python",
   "name": "python3"
  },
  "language_info": {
   "codemirror_mode": {
    "name": "ipython",
    "version": 3
   },
   "file_extension": ".py",
   "mimetype": "text/x-python",
   "name": "python",
   "nbconvert_exporter": "python",
   "pygments_lexer": "ipython3",
   "version": "3.9.19"
  }
 },
 "nbformat": 4,
 "nbformat_minor": 5
}
