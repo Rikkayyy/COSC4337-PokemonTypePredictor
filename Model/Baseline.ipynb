{
 "cells": [
  {
   "cell_type": "code",
   "execution_count": 1,
   "id": "326281f7",
   "metadata": {},
   "outputs": [],
   "source": [
    "import pandas as pd\n",
    "import numpy as np\n",
    "import random\n",
    "from sklearn.preprocessing import MultiLabelBinarizer\n",
    "from sklearn.metrics import f1_score"
   ]
  },
  {
   "cell_type": "code",
   "execution_count": 2,
   "id": "6956bf67",
   "metadata": {},
   "outputs": [],
   "source": [
    "# Load your dataset\n",
    "df = pd.read_csv('../Datasets/pokedex_final.csv')  # Update this path if needed\n",
    "\n",
    "# Combine type1 and type2 into a list\n",
    "df['type_list'] = df[['type1', 'type2']].values.tolist()\n",
    "df['type_list'] = df['type_list'].apply(lambda x: [t for t in x if pd.notna(t) and t != ''])\n",
    "\n",
    "# Get list of all 18 types from the dataset\n",
    "all_types = sorted(list({t for types in df['type_list'] for t in types}))\n",
    "\n",
    "# Binarize the true labels\n",
    "mlb = MultiLabelBinarizer(classes=all_types)\n",
    "y_true = mlb.fit_transform(df['type_list'])\n"
   ]
  },
  {
   "cell_type": "code",
   "execution_count": 3,
   "id": "8d6f9723",
   "metadata": {},
   "outputs": [],
   "source": [
    "# Function to randomly assign 1 or 2 types\n",
    "def random_types():\n",
    "    num_types = random.choice([1, 2])  # mono or dual type\n",
    "    return random.sample(all_types, num_types)\n",
    "\n",
    "# Generate random predictions\n",
    "df['random_pred'] = [random_types() for _ in range(len(df))]\n",
    "\n",
    "# Binarize the random predictions\n",
    "y_pred = mlb.transform(df['random_pred'])"
   ]
  },
  {
   "cell_type": "code",
   "execution_count": 4,
   "id": "04c46dea",
   "metadata": {},
   "outputs": [
    {
     "name": "stdout",
     "output_type": "stream",
     "text": [
      "Exact Match Accuracy: 0.0146\n",
      "Macro F1 Score: 0.0819\n",
      "Top-2 Accuracy: 0.1268\n"
     ]
    }
   ],
   "source": [
    "# Exact Match Accuracy\n",
    "correct = sum([set(np.where(p == 1)[0]) == set(np.where(t == 1)[0]) for p, t in zip(y_pred, y_true)])\n",
    "accuracy = correct / len(y_true)\n",
    "print(f\"Exact Match Accuracy: {accuracy:.4f}\")\n",
    "\n",
    "# Macro F1 Score\n",
    "f1 = f1_score(y_true, y_pred, average='macro')\n",
    "print(f\"Macro F1 Score: {f1:.4f}\")\n",
    "\n",
    "# Top-2 Accuracy\n",
    "# Since predictions are randomly assigned, we need to fake \"probabilities\" for Top-2\n",
    "# Here, we'll just treat the random picks as the Top-2 guesses\n",
    "\n",
    "correct_top2 = 0\n",
    "for true_labels, pred_labels in zip(y_true, y_pred):\n",
    "    true_types = np.where(true_labels == 1)[0]\n",
    "    pred_types = np.where(pred_labels == 1)[0]\n",
    "    if any(t in pred_types for t in true_types):\n",
    "        correct_top2 += 1\n",
    "\n",
    "top2_accuracy = correct_top2 / len(y_true)\n",
    "print(f\"Top-2 Accuracy: {top2_accuracy:.4f}\")"
   ]
  }
 ],
 "metadata": {
  "kernelspec": {
   "display_name": "Python 3",
   "language": "python",
   "name": "python3"
  },
  "language_info": {
   "codemirror_mode": {
    "name": "ipython",
    "version": 3
   },
   "file_extension": ".py",
   "mimetype": "text/x-python",
   "name": "python",
   "nbconvert_exporter": "python",
   "pygments_lexer": "ipython3",
   "version": "3.11.9"
  }
 },
 "nbformat": 4,
 "nbformat_minor": 5
}
